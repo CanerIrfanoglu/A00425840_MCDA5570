{
 "cells": [
  {
   "cell_type": "markdown",
   "metadata": {},
   "source": [
    "### Big Data Project Take #1"
   ]
  },
  {
   "cell_type": "code",
   "execution_count": 1,
   "metadata": {
    "collapsed": true
   },
   "outputs": [],
   "source": [
    "import pandas as pd\n",
    "import numpy as np\n"
   ]
  },
  {
   "cell_type": "code",
   "execution_count": 2,
   "metadata": {
    "collapsed": false
   },
   "outputs": [],
   "source": [
    "df_order = pd.read_csv(\"/Users/Caner/Desktop/SMU_Class/Managing_Info_Tech_5570/nikita/big_data_group_project/OS_ORDER.txt\", sep='\\t')"
   ]
  },
  {
   "cell_type": "code",
   "execution_count": 3,
   "metadata": {
    "collapsed": true
   },
   "outputs": [],
   "source": [
    "df_order_items = pd.read_csv(\"/Users/Caner/Desktop/SMU_Class/Managing_Info_Tech_5570/nikita/big_data_group_project/OS_ORDER_ITEMS.txt\", sep='\\t')"
   ]
  },
  {
   "cell_type": "code",
   "execution_count": 4,
   "metadata": {
    "collapsed": false
   },
   "outputs": [
    {
     "data": {
      "text/html": [
       "<div>\n",
       "<table border=\"1\" class=\"dataframe\">\n",
       "  <thead>\n",
       "    <tr style=\"text-align: right;\">\n",
       "      <th></th>\n",
       "      <th>ORDER_ID</th>\n",
       "      <th>ORDER_CODE</th>\n",
       "      <th>BUYER_ID</th>\n",
       "      <th>CREATE_DT</th>\n",
       "      <th>PAY_DT</th>\n",
       "      <th>CREATE_IP</th>\n",
       "      <th>ORDER_STATUS</th>\n",
       "      <th>EXCEPTION_STATUS</th>\n",
       "    </tr>\n",
       "  </thead>\n",
       "  <tbody>\n",
       "    <tr>\n",
       "      <th>0</th>\n",
       "      <td>292</td>\n",
       "      <td>100409000801</td>\n",
       "      <td>20076</td>\n",
       "      <td>0000-00-00</td>\n",
       "      <td>NaN</td>\n",
       "      <td>123.127.164.252</td>\n",
       "      <td>z</td>\n",
       "      <td>0</td>\n",
       "    </tr>\n",
       "    <tr>\n",
       "      <th>1</th>\n",
       "      <td>293</td>\n",
       "      <td>100409000802</td>\n",
       "      <td>20076</td>\n",
       "      <td>0000-00-00</td>\n",
       "      <td>NaN</td>\n",
       "      <td>123.127.164.252</td>\n",
       "      <td>z</td>\n",
       "      <td>0</td>\n",
       "    </tr>\n",
       "    <tr>\n",
       "      <th>2</th>\n",
       "      <td>294</td>\n",
       "      <td>100409000803</td>\n",
       "      <td>20076</td>\n",
       "      <td>0000-00-00</td>\n",
       "      <td>NaN</td>\n",
       "      <td>123.127.164.252</td>\n",
       "      <td>z</td>\n",
       "      <td>0</td>\n",
       "    </tr>\n",
       "    <tr>\n",
       "      <th>3</th>\n",
       "      <td>295</td>\n",
       "      <td>100409000804</td>\n",
       "      <td>20076</td>\n",
       "      <td>0000-00-00</td>\n",
       "      <td>NaN</td>\n",
       "      <td>123.127.164.252</td>\n",
       "      <td>z</td>\n",
       "      <td>0</td>\n",
       "    </tr>\n",
       "    <tr>\n",
       "      <th>4</th>\n",
       "      <td>312</td>\n",
       "      <td>100413000825</td>\n",
       "      <td>20055</td>\n",
       "      <td>0000-00-00</td>\n",
       "      <td>13-04-2010 15:22:08</td>\n",
       "      <td>123.127.164.252</td>\n",
       "      <td>A</td>\n",
       "      <td>0</td>\n",
       "    </tr>\n",
       "  </tbody>\n",
       "</table>\n",
       "</div>"
      ],
      "text/plain": [
       "   ORDER_ID    ORDER_CODE  BUYER_ID   CREATE_DT               PAY_DT  \\\n",
       "0       292  100409000801     20076  0000-00-00                  NaN   \n",
       "1       293  100409000802     20076  0000-00-00                  NaN   \n",
       "2       294  100409000803     20076  0000-00-00                  NaN   \n",
       "3       295  100409000804     20076  0000-00-00                  NaN   \n",
       "4       312  100413000825     20055  0000-00-00  13-04-2010 15:22:08   \n",
       "\n",
       "         CREATE_IP ORDER_STATUS  EXCEPTION_STATUS  \n",
       "0  123.127.164.252            z                 0  \n",
       "1  123.127.164.252            z                 0  \n",
       "2  123.127.164.252            z                 0  \n",
       "3  123.127.164.252            z                 0  \n",
       "4  123.127.164.252            A                 0  "
      ]
     },
     "execution_count": 4,
     "metadata": {},
     "output_type": "execute_result"
    }
   ],
   "source": [
    "df_order.head()"
   ]
  },
  {
   "cell_type": "code",
   "execution_count": 5,
   "metadata": {
    "collapsed": false
   },
   "outputs": [],
   "source": [
    "df_order = df_order.drop(['CREATE_DT', 'EXCEPTION_STATUS'], axis=1)"
   ]
  },
  {
   "cell_type": "code",
   "execution_count": 6,
   "metadata": {
    "collapsed": false
   },
   "outputs": [],
   "source": [
    "df_combined = pd.merge(df_order,df_order_items, how= 'inner', left_on='ORDER_ID', right_on= 'ORDER_ID')"
   ]
  },
  {
   "cell_type": "code",
   "execution_count": 7,
   "metadata": {
    "collapsed": false
   },
   "outputs": [],
   "source": [
    "df_date = df_order['PAY_DT'].str.split(' ', 1, expand=True)\n",
    "# split yymmdd from hh"
   ]
  },
  {
   "cell_type": "code",
   "execution_count": 8,
   "metadata": {
    "collapsed": false
   },
   "outputs": [],
   "source": [
    "df_date.columns = [\"year\", \"time\"] \n",
    "# rename"
   ]
  },
  {
   "cell_type": "code",
   "execution_count": 9,
   "metadata": {
    "collapsed": false
   },
   "outputs": [],
   "source": [
    "df_date_split = df_date[\"year\"].str.split('-', 0, expand=True)\n",
    "# "
   ]
  },
  {
   "cell_type": "code",
   "execution_count": 10,
   "metadata": {
    "collapsed": false
   },
   "outputs": [],
   "source": [
    "df_m_y = df_date_split.loc[:,[1,2]]"
   ]
  },
  {
   "cell_type": "code",
   "execution_count": 11,
   "metadata": {
    "collapsed": false
   },
   "outputs": [],
   "source": [
    "df_date_split.bfill(inplace = True)\n",
    "df_date_split.ffill(inplace = True)\n"
   ]
  },
  {
   "cell_type": "code",
   "execution_count": 12,
   "metadata": {
    "collapsed": false
   },
   "outputs": [
    {
     "data": {
      "text/html": [
       "<div>\n",
       "<table border=\"1\" class=\"dataframe\">\n",
       "  <thead>\n",
       "    <tr style=\"text-align: right;\">\n",
       "      <th></th>\n",
       "      <th>0</th>\n",
       "      <th>1</th>\n",
       "      <th>2</th>\n",
       "    </tr>\n",
       "  </thead>\n",
       "  <tbody>\n",
       "    <tr>\n",
       "      <th>0</th>\n",
       "      <td>13</td>\n",
       "      <td>04</td>\n",
       "      <td>2010</td>\n",
       "    </tr>\n",
       "    <tr>\n",
       "      <th>1</th>\n",
       "      <td>13</td>\n",
       "      <td>04</td>\n",
       "      <td>2010</td>\n",
       "    </tr>\n",
       "    <tr>\n",
       "      <th>2</th>\n",
       "      <td>13</td>\n",
       "      <td>04</td>\n",
       "      <td>2010</td>\n",
       "    </tr>\n",
       "    <tr>\n",
       "      <th>3</th>\n",
       "      <td>13</td>\n",
       "      <td>04</td>\n",
       "      <td>2010</td>\n",
       "    </tr>\n",
       "    <tr>\n",
       "      <th>4</th>\n",
       "      <td>13</td>\n",
       "      <td>04</td>\n",
       "      <td>2010</td>\n",
       "    </tr>\n",
       "  </tbody>\n",
       "</table>\n",
       "</div>"
      ],
      "text/plain": [
       "    0   1     2\n",
       "0  13  04  2010\n",
       "1  13  04  2010\n",
       "2  13  04  2010\n",
       "3  13  04  2010\n",
       "4  13  04  2010"
      ]
     },
     "execution_count": 12,
     "metadata": {},
     "output_type": "execute_result"
    }
   ],
   "source": [
    "df_date_split.head()\n"
   ]
  },
  {
   "cell_type": "code",
   "execution_count": 13,
   "metadata": {
    "collapsed": false,
    "scrolled": true
   },
   "outputs": [],
   "source": [
    "df_m_y.columns = ['month', 'year']\n"
   ]
  },
  {
   "cell_type": "code",
   "execution_count": 14,
   "metadata": {
    "collapsed": true
   },
   "outputs": [],
   "source": [
    "df_date_split.columns = ['day', 'month', 'year']"
   ]
  },
  {
   "cell_type": "code",
   "execution_count": 15,
   "metadata": {
    "collapsed": false
   },
   "outputs": [],
   "source": [
    "df_m_y.bfill(inplace = True)\n",
    "df_m_y.ffill(inplace = True) # for the last couple observations"
   ]
  },
  {
   "cell_type": "code",
   "execution_count": 16,
   "metadata": {
    "collapsed": true
   },
   "outputs": [],
   "source": [
    "df_m_y['period'] = df_m_y[['month', 'year']].apply(lambda x: '/'.join(filter(None,x)), axis=1)\n"
   ]
  },
  {
   "cell_type": "code",
   "execution_count": null,
   "metadata": {
    "collapsed": false
   },
   "outputs": [],
   "source": []
  },
  {
   "cell_type": "code",
   "execution_count": 17,
   "metadata": {
    "collapsed": true
   },
   "outputs": [],
   "source": [
    "df_date_split['date'] = df_date_split[['day', 'month', 'year']].apply(lambda x: '/'.join(filter(None,x)), axis=1)"
   ]
  },
  {
   "cell_type": "code",
   "execution_count": 18,
   "metadata": {
    "collapsed": false
   },
   "outputs": [
    {
     "data": {
      "text/html": [
       "<div>\n",
       "<table border=\"1\" class=\"dataframe\">\n",
       "  <thead>\n",
       "    <tr style=\"text-align: right;\">\n",
       "      <th></th>\n",
       "      <th>day</th>\n",
       "      <th>month</th>\n",
       "      <th>year</th>\n",
       "      <th>date</th>\n",
       "    </tr>\n",
       "  </thead>\n",
       "  <tbody>\n",
       "    <tr>\n",
       "      <th>0</th>\n",
       "      <td>13</td>\n",
       "      <td>04</td>\n",
       "      <td>2010</td>\n",
       "      <td>13/04/2010</td>\n",
       "    </tr>\n",
       "    <tr>\n",
       "      <th>1</th>\n",
       "      <td>13</td>\n",
       "      <td>04</td>\n",
       "      <td>2010</td>\n",
       "      <td>13/04/2010</td>\n",
       "    </tr>\n",
       "    <tr>\n",
       "      <th>2</th>\n",
       "      <td>13</td>\n",
       "      <td>04</td>\n",
       "      <td>2010</td>\n",
       "      <td>13/04/2010</td>\n",
       "    </tr>\n",
       "    <tr>\n",
       "      <th>3</th>\n",
       "      <td>13</td>\n",
       "      <td>04</td>\n",
       "      <td>2010</td>\n",
       "      <td>13/04/2010</td>\n",
       "    </tr>\n",
       "    <tr>\n",
       "      <th>4</th>\n",
       "      <td>13</td>\n",
       "      <td>04</td>\n",
       "      <td>2010</td>\n",
       "      <td>13/04/2010</td>\n",
       "    </tr>\n",
       "  </tbody>\n",
       "</table>\n",
       "</div>"
      ],
      "text/plain": [
       "  day month  year        date\n",
       "0  13    04  2010  13/04/2010\n",
       "1  13    04  2010  13/04/2010\n",
       "2  13    04  2010  13/04/2010\n",
       "3  13    04  2010  13/04/2010\n",
       "4  13    04  2010  13/04/2010"
      ]
     },
     "execution_count": 18,
     "metadata": {},
     "output_type": "execute_result"
    }
   ],
   "source": [
    "df_date_split.head()"
   ]
  },
  {
   "cell_type": "code",
   "execution_count": 19,
   "metadata": {
    "collapsed": true
   },
   "outputs": [],
   "source": [
    "df_c = pd.concat([df_order.reset_index(drop=True), df_m_y['period'], df_date_split['date']], axis=1)"
   ]
  },
  {
   "cell_type": "code",
   "execution_count": 20,
   "metadata": {
    "collapsed": false
   },
   "outputs": [
    {
     "data": {
      "text/html": [
       "<div>\n",
       "<table border=\"1\" class=\"dataframe\">\n",
       "  <thead>\n",
       "    <tr style=\"text-align: right;\">\n",
       "      <th></th>\n",
       "      <th>ORDER_ID</th>\n",
       "      <th>ORDER_CODE</th>\n",
       "      <th>BUYER_ID</th>\n",
       "      <th>PAY_DT</th>\n",
       "      <th>CREATE_IP</th>\n",
       "      <th>ORDER_STATUS</th>\n",
       "      <th>period</th>\n",
       "      <th>date</th>\n",
       "    </tr>\n",
       "  </thead>\n",
       "  <tbody>\n",
       "    <tr>\n",
       "      <th>0</th>\n",
       "      <td>292</td>\n",
       "      <td>100409000801</td>\n",
       "      <td>20076</td>\n",
       "      <td>NaN</td>\n",
       "      <td>123.127.164.252</td>\n",
       "      <td>z</td>\n",
       "      <td>04/2010</td>\n",
       "      <td>13/04/2010</td>\n",
       "    </tr>\n",
       "    <tr>\n",
       "      <th>1</th>\n",
       "      <td>293</td>\n",
       "      <td>100409000802</td>\n",
       "      <td>20076</td>\n",
       "      <td>NaN</td>\n",
       "      <td>123.127.164.252</td>\n",
       "      <td>z</td>\n",
       "      <td>04/2010</td>\n",
       "      <td>13/04/2010</td>\n",
       "    </tr>\n",
       "    <tr>\n",
       "      <th>2</th>\n",
       "      <td>294</td>\n",
       "      <td>100409000803</td>\n",
       "      <td>20076</td>\n",
       "      <td>NaN</td>\n",
       "      <td>123.127.164.252</td>\n",
       "      <td>z</td>\n",
       "      <td>04/2010</td>\n",
       "      <td>13/04/2010</td>\n",
       "    </tr>\n",
       "    <tr>\n",
       "      <th>3</th>\n",
       "      <td>295</td>\n",
       "      <td>100409000804</td>\n",
       "      <td>20076</td>\n",
       "      <td>NaN</td>\n",
       "      <td>123.127.164.252</td>\n",
       "      <td>z</td>\n",
       "      <td>04/2010</td>\n",
       "      <td>13/04/2010</td>\n",
       "    </tr>\n",
       "    <tr>\n",
       "      <th>4</th>\n",
       "      <td>312</td>\n",
       "      <td>100413000825</td>\n",
       "      <td>20055</td>\n",
       "      <td>13-04-2010 15:22:08</td>\n",
       "      <td>123.127.164.252</td>\n",
       "      <td>A</td>\n",
       "      <td>04/2010</td>\n",
       "      <td>13/04/2010</td>\n",
       "    </tr>\n",
       "  </tbody>\n",
       "</table>\n",
       "</div>"
      ],
      "text/plain": [
       "   ORDER_ID    ORDER_CODE  BUYER_ID               PAY_DT        CREATE_IP  \\\n",
       "0       292  100409000801     20076                  NaN  123.127.164.252   \n",
       "1       293  100409000802     20076                  NaN  123.127.164.252   \n",
       "2       294  100409000803     20076                  NaN  123.127.164.252   \n",
       "3       295  100409000804     20076                  NaN  123.127.164.252   \n",
       "4       312  100413000825     20055  13-04-2010 15:22:08  123.127.164.252   \n",
       "\n",
       "  ORDER_STATUS   period        date  \n",
       "0            z  04/2010  13/04/2010  \n",
       "1            z  04/2010  13/04/2010  \n",
       "2            z  04/2010  13/04/2010  \n",
       "3            z  04/2010  13/04/2010  \n",
       "4            A  04/2010  13/04/2010  "
      ]
     },
     "execution_count": 20,
     "metadata": {},
     "output_type": "execute_result"
    }
   ],
   "source": [
    "df_c.head()"
   ]
  },
  {
   "cell_type": "code",
   "execution_count": 21,
   "metadata": {
    "collapsed": false
   },
   "outputs": [],
   "source": [
    "\n",
    "df_c['period'] = pd.to_datetime(df_c['period'], format=\"%m/%Y\")\n",
    "df_c_group = df_c.groupby('period').count()[['ORDER_ID']]\n",
    "\n"
   ]
  },
  {
   "cell_type": "code",
   "execution_count": 22,
   "metadata": {
    "collapsed": false
   },
   "outputs": [
    {
     "data": {
      "text/plain": [
       "<matplotlib.axes._subplots.AxesSubplot at 0x111368fd0>"
      ]
     },
     "execution_count": 22,
     "metadata": {},
     "output_type": "execute_result"
    },
    {
     "data": {
      "image/png": "[encoded data removed]",
      "text/plain": [
       "<matplotlib.figure.Figure at 0x11053eb38>"
      ]
     },
     "metadata": {},
     "output_type": "display_data"
    }
   ],
   "source": [
    "%matplotlib inline\n",
    "import matplotlib.pyplot as plt\n",
    "df_c_group.plot(kind=\"line\")"
   ]
  },
  {
   "cell_type": "code",
   "execution_count": 23,
   "metadata": {
    "collapsed": false
   },
   "outputs": [
    {
     "data": {
      "text/plain": [
       "(38275, 8)"
      ]
     },
     "execution_count": 23,
     "metadata": {},
     "output_type": "execute_result"
    }
   ],
   "source": [
    "### CUSTOMER SEGMENTATION ###\n",
    "# Recency # \n",
    "df_c.shape"
   ]
  },
  {
   "cell_type": "code",
   "execution_count": 24,
   "metadata": {
    "collapsed": false
   },
   "outputs": [],
   "source": [
    "from datetime import datetime\n",
    "day_last = datetime.strptime(\"15/12/2011\", \"%d/%m/%Y\")\n",
    "df_c['date'] = pd.to_datetime(df_c['date'])\n",
    "df_c['recency'] = day_last - df_c['date']"
   ]
  },
  {
   "cell_type": "code",
   "execution_count": 25,
   "metadata": {
    "collapsed": false
   },
   "outputs": [
    {
     "data": {
      "text/html": [
       "<div>\n",
       "<table border=\"1\" class=\"dataframe\">\n",
       "  <thead>\n",
       "    <tr style=\"text-align: right;\">\n",
       "      <th></th>\n",
       "      <th>ORDER_ID</th>\n",
       "      <th>ORDER_CODE</th>\n",
       "      <th>BUYER_ID</th>\n",
       "      <th>PAY_DT</th>\n",
       "      <th>CREATE_IP</th>\n",
       "      <th>ORDER_STATUS</th>\n",
       "      <th>period</th>\n",
       "      <th>date</th>\n",
       "      <th>recency</th>\n",
       "    </tr>\n",
       "  </thead>\n",
       "  <tbody>\n",
       "    <tr>\n",
       "      <th>0</th>\n",
       "      <td>292</td>\n",
       "      <td>100409000801</td>\n",
       "      <td>20076</td>\n",
       "      <td>NaN</td>\n",
       "      <td>123.127.164.252</td>\n",
       "      <td>z</td>\n",
       "      <td>2010-04-01</td>\n",
       "      <td>2010-04-13</td>\n",
       "      <td>611 days</td>\n",
       "    </tr>\n",
       "    <tr>\n",
       "      <th>1</th>\n",
       "      <td>293</td>\n",
       "      <td>100409000802</td>\n",
       "      <td>20076</td>\n",
       "      <td>NaN</td>\n",
       "      <td>123.127.164.252</td>\n",
       "      <td>z</td>\n",
       "      <td>2010-04-01</td>\n",
       "      <td>2010-04-13</td>\n",
       "      <td>611 days</td>\n",
       "    </tr>\n",
       "    <tr>\n",
       "      <th>2</th>\n",
       "      <td>294</td>\n",
       "      <td>100409000803</td>\n",
       "      <td>20076</td>\n",
       "      <td>NaN</td>\n",
       "      <td>123.127.164.252</td>\n",
       "      <td>z</td>\n",
       "      <td>2010-04-01</td>\n",
       "      <td>2010-04-13</td>\n",
       "      <td>611 days</td>\n",
       "    </tr>\n",
       "    <tr>\n",
       "      <th>3</th>\n",
       "      <td>295</td>\n",
       "      <td>100409000804</td>\n",
       "      <td>20076</td>\n",
       "      <td>NaN</td>\n",
       "      <td>123.127.164.252</td>\n",
       "      <td>z</td>\n",
       "      <td>2010-04-01</td>\n",
       "      <td>2010-04-13</td>\n",
       "      <td>611 days</td>\n",
       "    </tr>\n",
       "    <tr>\n",
       "      <th>4</th>\n",
       "      <td>312</td>\n",
       "      <td>100413000825</td>\n",
       "      <td>20055</td>\n",
       "      <td>13-04-2010 15:22:08</td>\n",
       "      <td>123.127.164.252</td>\n",
       "      <td>A</td>\n",
       "      <td>2010-04-01</td>\n",
       "      <td>2010-04-13</td>\n",
       "      <td>611 days</td>\n",
       "    </tr>\n",
       "  </tbody>\n",
       "</table>\n",
       "</div>"
      ],
      "text/plain": [
       "   ORDER_ID    ORDER_CODE  BUYER_ID               PAY_DT        CREATE_IP  \\\n",
       "0       292  100409000801     20076                  NaN  123.127.164.252   \n",
       "1       293  100409000802     20076                  NaN  123.127.164.252   \n",
       "2       294  100409000803     20076                  NaN  123.127.164.252   \n",
       "3       295  100409000804     20076                  NaN  123.127.164.252   \n",
       "4       312  100413000825     20055  13-04-2010 15:22:08  123.127.164.252   \n",
       "\n",
       "  ORDER_STATUS     period       date  recency  \n",
       "0            z 2010-04-01 2010-04-13 611 days  \n",
       "1            z 2010-04-01 2010-04-13 611 days  \n",
       "2            z 2010-04-01 2010-04-13 611 days  \n",
       "3            z 2010-04-01 2010-04-13 611 days  \n",
       "4            A 2010-04-01 2010-04-13 611 days  "
      ]
     },
     "execution_count": 25,
     "metadata": {},
     "output_type": "execute_result"
    }
   ],
   "source": [
    "df_c.head()"
   ]
  },
  {
   "cell_type": "code",
   "execution_count": 26,
   "metadata": {
    "collapsed": true
   },
   "outputs": [],
   "source": [
    "df_combined = pd.merge(df_c, df_order_items, how= 'inner', left_on='ORDER_ID', right_on= 'ORDER_ID')"
   ]
  },
  {
   "cell_type": "code",
   "execution_count": 27,
   "metadata": {
    "collapsed": false
   },
   "outputs": [
    {
     "data": {
      "text/html": [
       "<div>\n",
       "<table border=\"1\" class=\"dataframe\">\n",
       "  <thead>\n",
       "    <tr style=\"text-align: right;\">\n",
       "      <th></th>\n",
       "      <th>ORDER_ID</th>\n",
       "      <th>ORDER_CODE</th>\n",
       "      <th>BUYER_ID</th>\n",
       "      <th>PAY_DT</th>\n",
       "      <th>CREATE_IP</th>\n",
       "      <th>ORDER_STATUS</th>\n",
       "      <th>period</th>\n",
       "      <th>date</th>\n",
       "      <th>recency</th>\n",
       "      <th>ITEM_ID</th>\n",
       "      <th>GOODS_ID</th>\n",
       "      <th>GOODS_NUMBER</th>\n",
       "      <th>SHOP_PRICE</th>\n",
       "      <th>GOODS_PRICE</th>\n",
       "      <th>GOODS_AMOUNT</th>\n",
       "    </tr>\n",
       "  </thead>\n",
       "  <tbody>\n",
       "    <tr>\n",
       "      <th>0</th>\n",
       "      <td>292</td>\n",
       "      <td>100409000801</td>\n",
       "      <td>20076</td>\n",
       "      <td>NaN</td>\n",
       "      <td>123.127.164.252</td>\n",
       "      <td>z</td>\n",
       "      <td>2010-04-01</td>\n",
       "      <td>2010-04-13</td>\n",
       "      <td>611 days</td>\n",
       "      <td>425</td>\n",
       "      <td>1010060</td>\n",
       "      <td>999.0</td>\n",
       "      <td>10.4</td>\n",
       "      <td>10.4</td>\n",
       "      <td>10389.6</td>\n",
       "    </tr>\n",
       "    <tr>\n",
       "      <th>1</th>\n",
       "      <td>292</td>\n",
       "      <td>100409000801</td>\n",
       "      <td>20076</td>\n",
       "      <td>NaN</td>\n",
       "      <td>123.127.164.252</td>\n",
       "      <td>z</td>\n",
       "      <td>2010-04-01</td>\n",
       "      <td>2010-04-13</td>\n",
       "      <td>611 days</td>\n",
       "      <td>426</td>\n",
       "      <td>1001716</td>\n",
       "      <td>999.0</td>\n",
       "      <td>16.8</td>\n",
       "      <td>16.8</td>\n",
       "      <td>16783.2</td>\n",
       "    </tr>\n",
       "    <tr>\n",
       "      <th>2</th>\n",
       "      <td>293</td>\n",
       "      <td>100409000802</td>\n",
       "      <td>20076</td>\n",
       "      <td>NaN</td>\n",
       "      <td>123.127.164.252</td>\n",
       "      <td>z</td>\n",
       "      <td>2010-04-01</td>\n",
       "      <td>2010-04-13</td>\n",
       "      <td>611 days</td>\n",
       "      <td>427</td>\n",
       "      <td>1010060</td>\n",
       "      <td>2.0</td>\n",
       "      <td>10.4</td>\n",
       "      <td>10.4</td>\n",
       "      <td>20.8</td>\n",
       "    </tr>\n",
       "    <tr>\n",
       "      <th>3</th>\n",
       "      <td>294</td>\n",
       "      <td>100409000803</td>\n",
       "      <td>20076</td>\n",
       "      <td>NaN</td>\n",
       "      <td>123.127.164.252</td>\n",
       "      <td>z</td>\n",
       "      <td>2010-04-01</td>\n",
       "      <td>2010-04-13</td>\n",
       "      <td>611 days</td>\n",
       "      <td>428</td>\n",
       "      <td>1010060</td>\n",
       "      <td>6.0</td>\n",
       "      <td>10.4</td>\n",
       "      <td>10.4</td>\n",
       "      <td>62.4</td>\n",
       "    </tr>\n",
       "    <tr>\n",
       "      <th>4</th>\n",
       "      <td>295</td>\n",
       "      <td>100409000804</td>\n",
       "      <td>20076</td>\n",
       "      <td>NaN</td>\n",
       "      <td>123.127.164.252</td>\n",
       "      <td>z</td>\n",
       "      <td>2010-04-01</td>\n",
       "      <td>2010-04-13</td>\n",
       "      <td>611 days</td>\n",
       "      <td>429</td>\n",
       "      <td>1010060</td>\n",
       "      <td>2.0</td>\n",
       "      <td>10.4</td>\n",
       "      <td>10.4</td>\n",
       "      <td>20.8</td>\n",
       "    </tr>\n",
       "  </tbody>\n",
       "</table>\n",
       "</div>"
      ],
      "text/plain": [
       "   ORDER_ID    ORDER_CODE  BUYER_ID PAY_DT        CREATE_IP ORDER_STATUS  \\\n",
       "0       292  100409000801     20076    NaN  123.127.164.252            z   \n",
       "1       292  100409000801     20076    NaN  123.127.164.252            z   \n",
       "2       293  100409000802     20076    NaN  123.127.164.252            z   \n",
       "3       294  100409000803     20076    NaN  123.127.164.252            z   \n",
       "4       295  100409000804     20076    NaN  123.127.164.252            z   \n",
       "\n",
       "      period       date  recency  ITEM_ID  GOODS_ID  GOODS_NUMBER  SHOP_PRICE  \\\n",
       "0 2010-04-01 2010-04-13 611 days      425   1010060         999.0        10.4   \n",
       "1 2010-04-01 2010-04-13 611 days      426   1001716         999.0        16.8   \n",
       "2 2010-04-01 2010-04-13 611 days      427   1010060           2.0        10.4   \n",
       "3 2010-04-01 2010-04-13 611 days      428   1010060           6.0        10.4   \n",
       "4 2010-04-01 2010-04-13 611 days      429   1010060           2.0        10.4   \n",
       "\n",
       "   GOODS_PRICE  GOODS_AMOUNT  \n",
       "0         10.4       10389.6  \n",
       "1         16.8       16783.2  \n",
       "2         10.4          20.8  \n",
       "3         10.4          62.4  \n",
       "4         10.4          20.8  "
      ]
     },
     "execution_count": 27,
     "metadata": {},
     "output_type": "execute_result"
    }
   ],
   "source": [
    "df_combined.head()"
   ]
  },
  {
   "cell_type": "code",
   "execution_count": 28,
   "metadata": {
    "collapsed": false
   },
   "outputs": [],
   "source": [
    "df_combined.drop(['GOODS_AMOUNT'], axis=1, inplace = True)"
   ]
  },
  {
   "cell_type": "code",
   "execution_count": 29,
   "metadata": {
    "collapsed": false
   },
   "outputs": [],
   "source": [
    "df_combined['GOODS_AMOUNT'] = df_combined.apply(lambda x:x['GOODS_PRICE']*x['GOODS_NUMBER'] , axis=1)\n",
    "# Good Amount re-create correctly"
   ]
  },
  {
   "cell_type": "code",
   "execution_count": 30,
   "metadata": {
    "collapsed": true
   },
   "outputs": [],
   "source": [
    "df_combined['PROFIT'] = df_combined.apply(lambda x:(x['SHOP_PRICE']-x['GOODS_PRICE'])*x['GOODS_NUMBER'] , axis=1)\n",
    "# Profit column created"
   ]
  },
  {
   "cell_type": "code",
   "execution_count": 31,
   "metadata": {
    "collapsed": false
   },
   "outputs": [
    {
     "data": {
      "text/html": [
       "<div>\n",
       "<table border=\"1\" class=\"dataframe\">\n",
       "  <thead>\n",
       "    <tr style=\"text-align: right;\">\n",
       "      <th></th>\n",
       "      <th>ORDER_ID</th>\n",
       "      <th>ORDER_CODE</th>\n",
       "      <th>BUYER_ID</th>\n",
       "      <th>PAY_DT</th>\n",
       "      <th>CREATE_IP</th>\n",
       "      <th>ORDER_STATUS</th>\n",
       "      <th>period</th>\n",
       "      <th>date</th>\n",
       "      <th>recency</th>\n",
       "      <th>ITEM_ID</th>\n",
       "      <th>GOODS_ID</th>\n",
       "      <th>GOODS_NUMBER</th>\n",
       "      <th>SHOP_PRICE</th>\n",
       "      <th>GOODS_PRICE</th>\n",
       "      <th>GOODS_AMOUNT</th>\n",
       "      <th>PROFIT</th>\n",
       "    </tr>\n",
       "  </thead>\n",
       "  <tbody>\n",
       "    <tr>\n",
       "      <th>0</th>\n",
       "      <td>292</td>\n",
       "      <td>100409000801</td>\n",
       "      <td>20076</td>\n",
       "      <td>NaN</td>\n",
       "      <td>123.127.164.252</td>\n",
       "      <td>z</td>\n",
       "      <td>2010-04-01</td>\n",
       "      <td>2010-04-13</td>\n",
       "      <td>611 days</td>\n",
       "      <td>425</td>\n",
       "      <td>1010060</td>\n",
       "      <td>999.0</td>\n",
       "      <td>10.4</td>\n",
       "      <td>10.4</td>\n",
       "      <td>10389.6</td>\n",
       "      <td>0.0</td>\n",
       "    </tr>\n",
       "    <tr>\n",
       "      <th>1</th>\n",
       "      <td>292</td>\n",
       "      <td>100409000801</td>\n",
       "      <td>20076</td>\n",
       "      <td>NaN</td>\n",
       "      <td>123.127.164.252</td>\n",
       "      <td>z</td>\n",
       "      <td>2010-04-01</td>\n",
       "      <td>2010-04-13</td>\n",
       "      <td>611 days</td>\n",
       "      <td>426</td>\n",
       "      <td>1001716</td>\n",
       "      <td>999.0</td>\n",
       "      <td>16.8</td>\n",
       "      <td>16.8</td>\n",
       "      <td>16783.2</td>\n",
       "      <td>0.0</td>\n",
       "    </tr>\n",
       "    <tr>\n",
       "      <th>2</th>\n",
       "      <td>293</td>\n",
       "      <td>100409000802</td>\n",
       "      <td>20076</td>\n",
       "      <td>NaN</td>\n",
       "      <td>123.127.164.252</td>\n",
       "      <td>z</td>\n",
       "      <td>2010-04-01</td>\n",
       "      <td>2010-04-13</td>\n",
       "      <td>611 days</td>\n",
       "      <td>427</td>\n",
       "      <td>1010060</td>\n",
       "      <td>2.0</td>\n",
       "      <td>10.4</td>\n",
       "      <td>10.4</td>\n",
       "      <td>20.8</td>\n",
       "      <td>0.0</td>\n",
       "    </tr>\n",
       "    <tr>\n",
       "      <th>3</th>\n",
       "      <td>294</td>\n",
       "      <td>100409000803</td>\n",
       "      <td>20076</td>\n",
       "      <td>NaN</td>\n",
       "      <td>123.127.164.252</td>\n",
       "      <td>z</td>\n",
       "      <td>2010-04-01</td>\n",
       "      <td>2010-04-13</td>\n",
       "      <td>611 days</td>\n",
       "      <td>428</td>\n",
       "      <td>1010060</td>\n",
       "      <td>6.0</td>\n",
       "      <td>10.4</td>\n",
       "      <td>10.4</td>\n",
       "      <td>62.4</td>\n",
       "      <td>0.0</td>\n",
       "    </tr>\n",
       "    <tr>\n",
       "      <th>4</th>\n",
       "      <td>295</td>\n",
       "      <td>100409000804</td>\n",
       "      <td>20076</td>\n",
       "      <td>NaN</td>\n",
       "      <td>123.127.164.252</td>\n",
       "      <td>z</td>\n",
       "      <td>2010-04-01</td>\n",
       "      <td>2010-04-13</td>\n",
       "      <td>611 days</td>\n",
       "      <td>429</td>\n",
       "      <td>1010060</td>\n",
       "      <td>2.0</td>\n",
       "      <td>10.4</td>\n",
       "      <td>10.4</td>\n",
       "      <td>20.8</td>\n",
       "      <td>0.0</td>\n",
       "    </tr>\n",
       "  </tbody>\n",
       "</table>\n",
       "</div>"
      ],
      "text/plain": [
       "   ORDER_ID    ORDER_CODE  BUYER_ID PAY_DT        CREATE_IP ORDER_STATUS  \\\n",
       "0       292  100409000801     20076    NaN  123.127.164.252            z   \n",
       "1       292  100409000801     20076    NaN  123.127.164.252            z   \n",
       "2       293  100409000802     20076    NaN  123.127.164.252            z   \n",
       "3       294  100409000803     20076    NaN  123.127.164.252            z   \n",
       "4       295  100409000804     20076    NaN  123.127.164.252            z   \n",
       "\n",
       "      period       date  recency  ITEM_ID  GOODS_ID  GOODS_NUMBER  SHOP_PRICE  \\\n",
       "0 2010-04-01 2010-04-13 611 days      425   1010060         999.0        10.4   \n",
       "1 2010-04-01 2010-04-13 611 days      426   1001716         999.0        16.8   \n",
       "2 2010-04-01 2010-04-13 611 days      427   1010060           2.0        10.4   \n",
       "3 2010-04-01 2010-04-13 611 days      428   1010060           6.0        10.4   \n",
       "4 2010-04-01 2010-04-13 611 days      429   1010060           2.0        10.4   \n",
       "\n",
       "   GOODS_PRICE  GOODS_AMOUNT  PROFIT  \n",
       "0         10.4       10389.6     0.0  \n",
       "1         16.8       16783.2     0.0  \n",
       "2         10.4          20.8     0.0  \n",
       "3         10.4          62.4     0.0  \n",
       "4         10.4          20.8     0.0  "
      ]
     },
     "execution_count": 31,
     "metadata": {},
     "output_type": "execute_result"
    }
   ],
   "source": [
    "df_combined.head()"
   ]
  },
  {
   "cell_type": "code",
   "execution_count": 32,
   "metadata": {
    "collapsed": false
   },
   "outputs": [
    {
     "data": {
      "text/plain": [
       "ORDER_ID        240331\n",
       "ORDER_CODE      240331\n",
       "BUYER_ID        240331\n",
       "PAY_DT          219448\n",
       "CREATE_IP       240331\n",
       "ORDER_STATUS    240331\n",
       "period          240331\n",
       "date            240331\n",
       "recency         238882\n",
       "ITEM_ID         240331\n",
       "GOODS_ID        240331\n",
       "GOODS_NUMBER    239783\n",
       "SHOP_PRICE      239911\n",
       "GOODS_PRICE     236042\n",
       "GOODS_AMOUNT    235495\n",
       "PROFIT          135429\n",
       "dtype: int64"
      ]
     },
     "execution_count": 32,
     "metadata": {},
     "output_type": "execute_result"
    }
   ],
   "source": [
    "df_combined[df_combined > 0.0].count()"
   ]
  },
  {
   "cell_type": "code",
   "execution_count": 33,
   "metadata": {
    "collapsed": false
   },
   "outputs": [],
   "source": [
    "df_freq = df_order.groupby('BUYER_ID').count()[['ORDER_ID']]"
   ]
  },
  {
   "cell_type": "code",
   "execution_count": 34,
   "metadata": {
    "collapsed": false
   },
   "outputs": [
    {
     "data": {
      "text/html": [
       "<div>\n",
       "<table border=\"1\" class=\"dataframe\">\n",
       "  <thead>\n",
       "    <tr style=\"text-align: right;\">\n",
       "      <th></th>\n",
       "      <th>ORDER_ID</th>\n",
       "    </tr>\n",
       "    <tr>\n",
       "      <th>BUYER_ID</th>\n",
       "      <th></th>\n",
       "    </tr>\n",
       "  </thead>\n",
       "  <tbody>\n",
       "    <tr>\n",
       "      <th>9004</th>\n",
       "      <td>26</td>\n",
       "    </tr>\n",
       "    <tr>\n",
       "      <th>9005</th>\n",
       "      <td>115</td>\n",
       "    </tr>\n",
       "    <tr>\n",
       "      <th>9006</th>\n",
       "      <td>5</td>\n",
       "    </tr>\n",
       "    <tr>\n",
       "      <th>9008</th>\n",
       "      <td>19</td>\n",
       "    </tr>\n",
       "    <tr>\n",
       "      <th>9009</th>\n",
       "      <td>4</td>\n",
       "    </tr>\n",
       "  </tbody>\n",
       "</table>\n",
       "</div>"
      ],
      "text/plain": [
       "          ORDER_ID\n",
       "BUYER_ID          \n",
       "9004            26\n",
       "9005           115\n",
       "9006             5\n",
       "9008            19\n",
       "9009             4"
      ]
     },
     "execution_count": 34,
     "metadata": {},
     "output_type": "execute_result"
    }
   ],
   "source": [
    "df_freq.head()"
   ]
  },
  {
   "cell_type": "code",
   "execution_count": 35,
   "metadata": {
    "collapsed": false
   },
   "outputs": [
    {
     "data": {
      "text/plain": [
       "(11908, 1)"
      ]
     },
     "execution_count": 35,
     "metadata": {},
     "output_type": "execute_result"
    }
   ],
   "source": [
    "df_freq.shape"
   ]
  },
  {
   "cell_type": "code",
   "execution_count": 36,
   "metadata": {
    "collapsed": false
   },
   "outputs": [],
   "source": [
    "df_recency = df_combined.groupby('BUYER_ID').min()\n"
   ]
  },
  {
   "cell_type": "code",
   "execution_count": 37,
   "metadata": {
    "collapsed": true
   },
   "outputs": [],
   "source": [
    "df_profit = df_combined.groupby('BUYER_ID').count()"
   ]
  },
  {
   "cell_type": "code",
   "execution_count": 38,
   "metadata": {
    "collapsed": false
   },
   "outputs": [],
   "source": [
    "df_rfm = pd.concat([df_freq['ORDER_ID'], df_recency['recency'].dt.days, df_profit['PROFIT']], axis = 1)\n",
    "#combine r - f - m"
   ]
  },
  {
   "cell_type": "code",
   "execution_count": 39,
   "metadata": {
    "collapsed": false
   },
   "outputs": [],
   "source": [
    "df_rfm.columns = ['frequency', 'recency', 'profit']"
   ]
  },
  {
   "cell_type": "code",
   "execution_count": 40,
   "metadata": {
    "collapsed": false
   },
   "outputs": [
    {
     "data": {
      "text/html": [
       "<div>\n",
       "<table border=\"1\" class=\"dataframe\">\n",
       "  <thead>\n",
       "    <tr style=\"text-align: right;\">\n",
       "      <th></th>\n",
       "      <th>frequency</th>\n",
       "      <th>recency</th>\n",
       "      <th>profit</th>\n",
       "    </tr>\n",
       "    <tr>\n",
       "      <th>BUYER_ID</th>\n",
       "      <th></th>\n",
       "      <th></th>\n",
       "      <th></th>\n",
       "    </tr>\n",
       "  </thead>\n",
       "  <tbody>\n",
       "    <tr>\n",
       "      <th>10023</th>\n",
       "      <td>204</td>\n",
       "      <td>1</td>\n",
       "      <td>2116</td>\n",
       "    </tr>\n",
       "    <tr>\n",
       "      <th>33961</th>\n",
       "      <td>160</td>\n",
       "      <td>1</td>\n",
       "      <td>1209</td>\n",
       "    </tr>\n",
       "    <tr>\n",
       "      <th>11839</th>\n",
       "      <td>62</td>\n",
       "      <td>17</td>\n",
       "      <td>1065</td>\n",
       "    </tr>\n",
       "    <tr>\n",
       "      <th>165805</th>\n",
       "      <td>59</td>\n",
       "      <td>0</td>\n",
       "      <td>900</td>\n",
       "    </tr>\n",
       "    <tr>\n",
       "      <th>42369</th>\n",
       "      <td>100</td>\n",
       "      <td>5</td>\n",
       "      <td>894</td>\n",
       "    </tr>\n",
       "  </tbody>\n",
       "</table>\n",
       "</div>"
      ],
      "text/plain": [
       "          frequency  recency  profit\n",
       "BUYER_ID                            \n",
       "10023           204        1    2116\n",
       "33961           160        1    1209\n",
       "11839            62       17    1065\n",
       "165805           59        0     900\n",
       "42369           100        5     894"
      ]
     },
     "execution_count": 40,
     "metadata": {},
     "output_type": "execute_result"
    }
   ],
   "source": [
    "df_rfm.sort_values(by=['profit'], ascending = False).head()"
   ]
  },
  {
   "cell_type": "code",
   "execution_count": 41,
   "metadata": {
    "collapsed": false
   },
   "outputs": [
    {
     "data": {
      "text/plain": [
       "<mpl_toolkits.mplot3d.art3d.Path3DCollection at 0x123c8aba8>"
      ]
     },
     "execution_count": 41,
     "metadata": {},
     "output_type": "execute_result"
    },
    {
     "data": {
      "image/png": "[encoded data removed]",
      "text/plain": [
       "<matplotlib.figure.Figure at 0x1146aa668>"
      ]
     },
     "metadata": {},
     "output_type": "display_data"
    }
   ],
   "source": [
    "%matplotlib inline\n",
    "import matplotlib.pyplot as plt\n",
    "from mpl_toolkits.mplot3d import Axes3D\n",
    "fig = plt.figure()\n",
    "ax = Axes3D(fig)\n",
    "ax.scatter(df_rfm['frequency'], df_rfm['recency'], df_rfm['profit'])\n",
    "#df_rfm.loc[:,0].head()"
   ]
  },
  {
   "cell_type": "code",
   "execution_count": 42,
   "metadata": {
    "collapsed": false
   },
   "outputs": [
    {
     "ename": "NameError",
     "evalue": "name 'KMeans' is not defined",
     "output_type": "error",
     "traceback": [
      "\u001b[0;31m---------------------------------------------------------------------------\u001b[0m",
      "\u001b[0;31mNameError\u001b[0m                                 Traceback (most recent call last)",
      "\u001b[0;32m<ipython-input-42-ecaf8913cfe7>\u001b[0m in \u001b[0;36m<module>\u001b[0;34m()\u001b[0m\n\u001b[1;32m      1\u001b[0m \u001b[0mKs\u001b[0m \u001b[0;34m=\u001b[0m \u001b[0mrange\u001b[0m\u001b[0;34m(\u001b[0m\u001b[0;36m1\u001b[0m\u001b[0;34m,\u001b[0m \u001b[0;36m10\u001b[0m\u001b[0;34m)\u001b[0m\u001b[0;34m\u001b[0m\u001b[0;34m\u001b[0m\u001b[0m\n\u001b[0;32m----> 2\u001b[0;31m \u001b[0mkm\u001b[0m \u001b[0;34m=\u001b[0m \u001b[0;34m[\u001b[0m\u001b[0mKMeans\u001b[0m\u001b[0;34m(\u001b[0m\u001b[0mn_clusters\u001b[0m\u001b[0;34m=\u001b[0m\u001b[0mi\u001b[0m\u001b[0;34m)\u001b[0m \u001b[0;32mfor\u001b[0m \u001b[0mi\u001b[0m \u001b[0;32min\u001b[0m \u001b[0mKs\u001b[0m\u001b[0;34m]\u001b[0m\u001b[0;34m\u001b[0m\u001b[0;34m\u001b[0m\u001b[0m\n\u001b[0m\u001b[1;32m      3\u001b[0m \u001b[0mscore\u001b[0m \u001b[0;34m=\u001b[0m \u001b[0;34m[\u001b[0m\u001b[0mabs\u001b[0m\u001b[0;34m(\u001b[0m\u001b[0mkm\u001b[0m\u001b[0;34m[\u001b[0m\u001b[0mi\u001b[0m\u001b[0;34m]\u001b[0m\u001b[0;34m.\u001b[0m\u001b[0mfit\u001b[0m\u001b[0;34m(\u001b[0m\u001b[0mdf_rfm\u001b[0m\u001b[0;34m)\u001b[0m\u001b[0;34m.\u001b[0m\u001b[0mscore\u001b[0m\u001b[0;34m(\u001b[0m\u001b[0mdf_rfm\u001b[0m\u001b[0;34m)\u001b[0m\u001b[0;34m)\u001b[0m \u001b[0;32mfor\u001b[0m \u001b[0mi\u001b[0m \u001b[0;32min\u001b[0m \u001b[0mrange\u001b[0m\u001b[0;34m(\u001b[0m\u001b[0mlen\u001b[0m\u001b[0;34m(\u001b[0m\u001b[0mkm\u001b[0m\u001b[0;34m)\u001b[0m\u001b[0;34m)\u001b[0m\u001b[0;34m]\u001b[0m\u001b[0;34m\u001b[0m\u001b[0;34m\u001b[0m\u001b[0m\n",
      "\u001b[0;32m<ipython-input-42-ecaf8913cfe7>\u001b[0m in \u001b[0;36m<listcomp>\u001b[0;34m(.0)\u001b[0m\n\u001b[1;32m      1\u001b[0m \u001b[0mKs\u001b[0m \u001b[0;34m=\u001b[0m \u001b[0mrange\u001b[0m\u001b[0;34m(\u001b[0m\u001b[0;36m1\u001b[0m\u001b[0;34m,\u001b[0m \u001b[0;36m10\u001b[0m\u001b[0;34m)\u001b[0m\u001b[0;34m\u001b[0m\u001b[0;34m\u001b[0m\u001b[0m\n\u001b[0;32m----> 2\u001b[0;31m \u001b[0mkm\u001b[0m \u001b[0;34m=\u001b[0m \u001b[0;34m[\u001b[0m\u001b[0mKMeans\u001b[0m\u001b[0;34m(\u001b[0m\u001b[0mn_clusters\u001b[0m\u001b[0;34m=\u001b[0m\u001b[0mi\u001b[0m\u001b[0;34m)\u001b[0m \u001b[0;32mfor\u001b[0m \u001b[0mi\u001b[0m \u001b[0;32min\u001b[0m \u001b[0mKs\u001b[0m\u001b[0;34m]\u001b[0m\u001b[0;34m\u001b[0m\u001b[0;34m\u001b[0m\u001b[0m\n\u001b[0m\u001b[1;32m      3\u001b[0m \u001b[0mscore\u001b[0m \u001b[0;34m=\u001b[0m \u001b[0;34m[\u001b[0m\u001b[0mabs\u001b[0m\u001b[0;34m(\u001b[0m\u001b[0mkm\u001b[0m\u001b[0;34m[\u001b[0m\u001b[0mi\u001b[0m\u001b[0;34m]\u001b[0m\u001b[0;34m.\u001b[0m\u001b[0mfit\u001b[0m\u001b[0;34m(\u001b[0m\u001b[0mdf_rfm\u001b[0m\u001b[0;34m)\u001b[0m\u001b[0;34m.\u001b[0m\u001b[0mscore\u001b[0m\u001b[0;34m(\u001b[0m\u001b[0mdf_rfm\u001b[0m\u001b[0;34m)\u001b[0m\u001b[0;34m)\u001b[0m \u001b[0;32mfor\u001b[0m \u001b[0mi\u001b[0m \u001b[0;32min\u001b[0m \u001b[0mrange\u001b[0m\u001b[0;34m(\u001b[0m\u001b[0mlen\u001b[0m\u001b[0;34m(\u001b[0m\u001b[0mkm\u001b[0m\u001b[0;34m)\u001b[0m\u001b[0;34m)\u001b[0m\u001b[0;34m]\u001b[0m\u001b[0;34m\u001b[0m\u001b[0;34m\u001b[0m\u001b[0m\n",
      "\u001b[0;31mNameError\u001b[0m: name 'KMeans' is not defined"
     ]
    }
   ],
   "source": [
    "Ks = range(1, 10)\n",
    "km = [KMeans(n_clusters=i) for i in Ks]\n",
    "score = [abs(km[i].fit(df_rfm).score(df_rfm)) for i in range(len(km))]"
   ]
  },
  {
   "cell_type": "code",
   "execution_count": null,
   "metadata": {
    "collapsed": false
   },
   "outputs": [],
   "source": [
    "%matplotlib inline\n",
    "import matplotlib.pyplot as plt\n",
    "#score.plot(kind=\"line\")\n",
    "plt.scatter(Ks, score)\n"
   ]
  },
  {
   "cell_type": "code",
   "execution_count": null,
   "metadata": {
    "collapsed": false
   },
   "outputs": [],
   "source": [
    "score"
   ]
  },
  {
   "cell_type": "code",
   "execution_count": null,
   "metadata": {
    "collapsed": true
   },
   "outputs": [],
   "source": [
    "from sklearn.cluster import KMeans"
   ]
  },
  {
   "cell_type": "code",
   "execution_count": null,
   "metadata": {
    "collapsed": false
   },
   "outputs": [],
   "source": [
    "kmeans = KMeans(n_clusters=4)\n",
    "kmeans = kmeans.fit(df_rfm)"
   ]
  },
  {
   "cell_type": "code",
   "execution_count": null,
   "metadata": {
    "collapsed": false
   },
   "outputs": [],
   "source": [
    "labels = kmeans.predict(df_rfm)"
   ]
  },
  {
   "cell_type": "code",
   "execution_count": null,
   "metadata": {
    "collapsed": true
   },
   "outputs": [],
   "source": [
    "centroids = kmeans.cluster_centers_"
   ]
  },
  {
   "cell_type": "code",
   "execution_count": null,
   "metadata": {
    "collapsed": false
   },
   "outputs": [],
   "source": [
    "centroids"
   ]
  },
  {
   "cell_type": "code",
   "execution_count": null,
   "metadata": {
    "collapsed": false
   },
   "outputs": [],
   "source": [
    "df_rfm.to_csv('rfm.csv', sep=',')"
   ]
  },
  {
   "cell_type": "code",
   "execution_count": null,
   "metadata": {
    "collapsed": false
   },
   "outputs": [],
   "source": [
    "df_rfm2 = df_rfm[df_rfm['profit'] > 10].sort_values(by=['profit'], ascending=True)\n",
    "df_rfm2.shape"
   ]
  },
  {
   "cell_type": "code",
   "execution_count": null,
   "metadata": {
    "collapsed": false
   },
   "outputs": [],
   "source": [
    "df_rfm.shape"
   ]
  },
  {
   "cell_type": "code",
   "execution_count": 45,
   "metadata": {
    "collapsed": false
   },
   "outputs": [
    {
     "data": {
      "text/html": [
       "<div>\n",
       "<table border=\"1\" class=\"dataframe\">\n",
       "  <thead>\n",
       "    <tr style=\"text-align: right;\">\n",
       "      <th></th>\n",
       "      <th>frequency</th>\n",
       "      <th>recency</th>\n",
       "      <th>profit</th>\n",
       "    </tr>\n",
       "    <tr>\n",
       "      <th>BUYER_ID</th>\n",
       "      <th></th>\n",
       "      <th></th>\n",
       "      <th></th>\n",
       "    </tr>\n",
       "  </thead>\n",
       "  <tbody>\n",
       "    <tr>\n",
       "      <th>9004</th>\n",
       "      <td>26</td>\n",
       "      <td>2</td>\n",
       "      <td>98</td>\n",
       "    </tr>\n",
       "    <tr>\n",
       "      <th>9005</th>\n",
       "      <td>115</td>\n",
       "      <td>2</td>\n",
       "      <td>601</td>\n",
       "    </tr>\n",
       "    <tr>\n",
       "      <th>9006</th>\n",
       "      <td>5</td>\n",
       "      <td>375</td>\n",
       "      <td>29</td>\n",
       "    </tr>\n",
       "    <tr>\n",
       "      <th>9008</th>\n",
       "      <td>19</td>\n",
       "      <td>372</td>\n",
       "      <td>79</td>\n",
       "    </tr>\n",
       "    <tr>\n",
       "      <th>9009</th>\n",
       "      <td>4</td>\n",
       "      <td>423</td>\n",
       "      <td>23</td>\n",
       "    </tr>\n",
       "  </tbody>\n",
       "</table>\n",
       "</div>"
      ],
      "text/plain": [
       "          frequency  recency  profit\n",
       "BUYER_ID                            \n",
       "9004             26        2      98\n",
       "9005            115        2     601\n",
       "9006              5      375      29\n",
       "9008             19      372      79\n",
       "9009              4      423      23"
      ]
     },
     "execution_count": 45,
     "metadata": {},
     "output_type": "execute_result"
    }
   ],
   "source": [
    "df_rfm.head()"
   ]
  }
 ],
 "metadata": {
  "kernelspec": {
   "display_name": "Python 3",
   "language": "python",
   "name": "python3"
  },
  "language_info": {
   "codemirror_mode": {
    "name": "ipython",
    "version": 3
   },
   "file_extension": ".py",
   "mimetype": "text/x-python",
   "name": "python",
   "nbconvert_exporter": "python",
   "pygments_lexer": "ipython3",
   "version": "3.6.8"
  }
 },
 "nbformat": 4,
 "nbformat_minor": 2
}
